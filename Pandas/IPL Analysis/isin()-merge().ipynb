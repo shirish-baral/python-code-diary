{
 "cells": [
  {
   "cell_type": "code",
   "execution_count": 51,
   "id": "184c9027-9439-4f6e-bf92-0d45fd54e5e9",
   "metadata": {},
   "outputs": [],
   "source": [
    "# isin() function"
   ]
  },
  {
   "cell_type": "code",
   "execution_count": 53,
   "id": "f4e9b731-07bf-43e8-83b9-79902b6ed23e",
   "metadata": {},
   "outputs": [],
   "source": [
    "import pandas as pd\n",
    "import numpy as np\n",
    "import matplotlib as mlt"
   ]
  },
  {
   "cell_type": "code",
   "execution_count": 55,
   "id": "050cc687-e326-404f-b556-888c7f9aebcb",
   "metadata": {},
   "outputs": [],
   "source": [
    "delivery= pd.read_csv('deliveries.csv')"
   ]
  },
  {
   "cell_type": "code",
   "execution_count": 81,
   "id": "fa4887d4-6381-4e4a-be22-a27ce43e864a",
   "metadata": {},
   "outputs": [],
   "source": [
    "match = pd.read_csv('matches - matches.csv')"
   ]
  },
  {
   "cell_type": "code",
   "execution_count": 83,
   "id": "5c330e09-c98c-40fd-bd3e-f731c90c122f",
   "metadata": {},
   "outputs": [],
   "source": [
    "# Find the most destructivef death over batsman in history of IPL\n",
    "# Strike Rate =(Number of runs/Number of balls)/100\n",
    "# Min batsman 200 balls faced in over 16-20"
   ]
  },
  {
   "cell_type": "code",
   "execution_count": 85,
   "id": "a80b7a55-a68c-480a-8575-cdfd8b397cbc",
   "metadata": {},
   "outputs": [],
   "source": [
    "# Only death overs\n",
    "death_over=delivery[delivery['over']>15]\n"
   ]
  },
  {
   "cell_type": "code",
   "execution_count": 87,
   "id": "327ddb09-e81d-485a-9d7e-63e9fb0b7bcd",
   "metadata": {},
   "outputs": [
    {
     "data": {
      "text/plain": [
       "batsman\n",
       "A Ashish Reddy    148\n",
       "A Chandila          7\n",
       "A Chopra            2\n",
       "A Choudhary        20\n",
       "A Flintoff         18\n",
       "                 ... \n",
       "YS Chahal          27\n",
       "YV Takawale        13\n",
       "Yashpal Singh      13\n",
       "Yuvraj Singh      516\n",
       "Z Khan            109\n",
       "Name: batsman_runs, Length: 416, dtype: int64"
      ]
     },
     "execution_count": 87,
     "metadata": {},
     "output_type": "execute_result"
    }
   ],
   "source": [
    "# Balls faced by IPL Batsman in death overs\n",
    "death_over.groupby('batsman')['batsman_runs'].count()\n",
    "# Groupby in terms of bastman and extract bastman_runs(each ball)"
   ]
  },
  {
   "cell_type": "code",
   "execution_count": 107,
   "id": "e1e2983f-748b-4fd9-a9d6-9b6abf5156ff",
   "metadata": {},
   "outputs": [
    {
     "data": {
      "text/plain": [
       "batsman\n",
       "A Mishra             225\n",
       "AB de Villiers       570\n",
       "AD Mathews           289\n",
       "AM Rahane            268\n",
       "AR Patel             229\n",
       "AT Rayudu            425\n",
       "BJ Hodge             385\n",
       "DA Miller            360\n",
       "DA Warner            228\n",
       "DJ Bravo             409\n",
       "DJ Hussey            234\n",
       "DPMD Jayawardene     246\n",
       "Harbhajan Singh      418\n",
       "IK Pathan            465\n",
       "JA Morkel            425\n",
       "JH Kallis            231\n",
       "JP Duminy            518\n",
       "JP Faulkner          294\n",
       "KA Pollard           838\n",
       "KD Karthik           463\n",
       "KM Jadhav            338\n",
       "LRPL Taylor          204\n",
       "MK Pandey            224\n",
       "MK Tiwary            423\n",
       "MS Dhoni            1224\n",
       "NV Ojha              304\n",
       "P Kumar              268\n",
       "PP Chawla            311\n",
       "R Vinay Kumar        235\n",
       "RA Jadeja            576\n",
       "RG Sharma            748\n",
       "RV Uthappa           275\n",
       "S Badrinath          283\n",
       "S Dhawan             243\n",
       "SK Raina             458\n",
       "SPD Smith            316\n",
       "SS Tiwary            300\n",
       "STR Binny            218\n",
       "V Kohli              546\n",
       "WP Saha              295\n",
       "Y Venugopal Rao      260\n",
       "YK Pathan            584\n",
       "Yuvraj Singh         516\n",
       "Name: batsman_runs, dtype: int64"
      ]
     },
     "execution_count": 107,
     "metadata": {},
     "output_type": "execute_result"
    }
   ],
   "source": [
    "# Balls faced by IPL Batsman in death overs \n",
    "death_batsman=death_over.groupby('batsman')['batsman_runs'].count()\n",
    "# Balls faced by IPL Batsman in death overs (over 200 balls faced)\n",
    "x=death_batsman>200\n",
    "death_batsman[x]\n",
    "\n"
   ]
  },
  {
   "cell_type": "code",
   "execution_count": 109,
   "id": "1cd52d96-4892-4b46-9c7f-3e6d6056fe46",
   "metadata": {},
   "outputs": [],
   "source": [
    "# # Balls faced by IPL Batsman in death overs (over 200 balls faced)\n",
    "# x=death_batsman>200\n",
    "# death_batsman[x]\n",
    "\n"
   ]
  },
  {
   "cell_type": "code",
   "execution_count": 115,
   "id": "e7d0602d-0d53-4c0e-9288-e3ea8404b9a4",
   "metadata": {},
   "outputs": [],
   "source": [
    "# List of Name of all batsman who has played 200+ balls in death over\n",
    "batsman_list = death_batsman[x].index.tolist()"
   ]
  },
  {
   "cell_type": "code",
   "execution_count": 117,
   "id": "66f126b5-d43d-493c-9e9c-4647693ea4a1",
   "metadata": {},
   "outputs": [],
   "source": [
    "# To calculate\n",
    "# Runs scored by all these 43 batsman\n",
    "# Balls played by all these 43 bastman"
   ]
  },
  {
   "cell_type": "code",
   "execution_count": 121,
   "id": "62ef866c-93d0-4098-91bd-808b3e58f411",
   "metadata": {},
   "outputs": [],
   "source": [
    "# Data of only those 43 bastman\n",
    "Final =delivery[delivery['batsman'].isin(batsman_list)]"
   ]
  },
  {
   "cell_type": "code",
   "execution_count": 123,
   "id": "811f93f5-6667-4eb2-a6c6-3975bc4e077a",
   "metadata": {},
   "outputs": [],
   "source": [
    "runs=Final.groupby('batsman')['batsman_runs'].sum()"
   ]
  },
  {
   "cell_type": "code",
   "execution_count": 125,
   "id": "5cc136e8-5c7a-4ad6-8db8-54944b15ff5c",
   "metadata": {},
   "outputs": [],
   "source": [
    "balls=Final.groupby('batsman')['batsman_runs'].count()"
   ]
  },
  {
   "cell_type": "code",
   "execution_count": 127,
   "id": "f67fc336-17bf-4db3-bdc0-29695a85f1fd",
   "metadata": {},
   "outputs": [
    {
     "data": {
      "text/plain": [
       "batsman\n",
       "AB de Villiers      145.129059\n",
       "YK Pathan           140.751445\n",
       "KA Pollard          140.621266\n",
       "DA Warner           138.318401\n",
       "DA Miller           137.709251\n",
       "JA Morkel           136.938202\n",
       "Harbhajan Singh     135.194585\n",
       "SK Raina            134.995548\n",
       "MS Dhoni            132.835821\n",
       "KM Jadhav           130.555556\n",
       "JP Faulkner         129.802956\n",
       "SPD Smith           128.507127\n",
       "RG Sharma           128.497251\n",
       "WP Saha             127.727646\n",
       "RV Uthappa          127.635135\n",
       "V Kohli             126.588437\n",
       "Yuvraj Singh        126.390244\n",
       "STR Binny           123.747981\n",
       "AT Rayudu           123.014257\n",
       "KD Karthik          123.008475\n",
       "AR Patel            122.672065\n",
       "DJ Bravo            122.286822\n",
       "JP Duminy           121.970624\n",
       "BJ Hodge            121.422376\n",
       "AD Mathews          120.868114\n",
       "DJ Hussey           120.072661\n",
       "LRPL Taylor         120.070838\n",
       "RA Jadeja           118.792867\n",
       "DPMD Jayawardene    118.791064\n",
       "S Dhawan            118.502496\n",
       "AM Rahane           117.486549\n",
       "MK Pandey           116.938453\n",
       "IK Pathan           116.751269\n",
       "S Badrinath         115.742972\n",
       "SS Tiwary           114.851485\n",
       "NV Ojha             114.528024\n",
       "MK Tiwary           114.127424\n",
       "Y Venugopal Rao     113.872832\n",
       "PP Chawla           110.278373\n",
       "R Vinay Kumar       106.666667\n",
       "JH Kallis           105.936272\n",
       "P Kumar             105.263158\n",
       "A Mishra             89.005236\n",
       "Name: batsman_runs, dtype: float64"
      ]
     },
     "execution_count": 127,
     "metadata": {},
     "output_type": "execute_result"
    }
   ],
   "source": [
    "sr=(runs/balls)*100\n",
    "sr.sort_values(ascending=False)"
   ]
  },
  {
   "cell_type": "code",
   "execution_count": 129,
   "id": "09177788-d14b-45b9-bcdd-fbd6e8b6f257",
   "metadata": {},
   "outputs": [],
   "source": [
    "# merge function\n",
    "# List of Orange cap holder"
   ]
  },
  {
   "cell_type": "code",
   "execution_count": 152,
   "id": "391d2334-3612-417d-8e58-fbecab15a3ef",
   "metadata": {},
   "outputs": [],
   "source": [
    "# Need to extract Season and total runs batsman scored in that season\n",
    "# Season is obtained from 'match' and runs from 'delivery' dataframe"
   ]
  },
  {
   "cell_type": "code",
   "execution_count": 154,
   "id": "e756ce4f-61ef-44e0-8a48-d91fcb53e3f7",
   "metadata": {},
   "outputs": [],
   "source": [
    "new= delivery.merge(match, left_on='match_id',right_on='id')"
   ]
  },
  {
   "cell_type": "code",
   "execution_count": 162,
   "id": "21fa7a31-abc6-4d53-89fc-dd9003701886",
   "metadata": {},
   "outputs": [
    {
     "data": {
      "text/plain": [
       "season  batsman          \n",
       "2008    A Chopra              42\n",
       "        A Kumble              13\n",
       "        A Mishra              37\n",
       "        A Mukund               0\n",
       "        A Nehra                3\n",
       "                            ... \n",
       "2017    Washington Sundar      9\n",
       "        YK Pathan            143\n",
       "        YS Chahal             13\n",
       "        Yuvraj Singh         252\n",
       "        Z Khan                 4\n",
       "Name: batsman_runs, Length: 1531, dtype: int64"
      ]
     },
     "execution_count": 162,
     "metadata": {},
     "output_type": "execute_result"
    }
   ],
   "source": [
    "# Extract total runs scored by batsman in each season\n",
    "new.groupby(['season','batsman'])['batsman_runs'].sum()\n",
    "# This will give multi-index series"
   ]
  },
  {
   "cell_type": "code",
   "execution_count": 172,
   "id": "0c8aed0b-2fbe-41d3-b90b-dc77604b5d6b",
   "metadata": {},
   "outputs": [
    {
     "data": {
      "text/html": [
       "<div>\n",
       "<style scoped>\n",
       "    .dataframe tbody tr th:only-of-type {\n",
       "        vertical-align: middle;\n",
       "    }\n",
       "\n",
       "    .dataframe tbody tr th {\n",
       "        vertical-align: top;\n",
       "    }\n",
       "\n",
       "    .dataframe thead th {\n",
       "        text-align: right;\n",
       "    }\n",
       "</style>\n",
       "<table border=\"1\" class=\"dataframe\">\n",
       "  <thead>\n",
       "    <tr style=\"text-align: right;\">\n",
       "      <th></th>\n",
       "      <th>season</th>\n",
       "      <th>batsman</th>\n",
       "      <th>batsman_runs</th>\n",
       "    </tr>\n",
       "  </thead>\n",
       "  <tbody>\n",
       "    <tr>\n",
       "      <th>0</th>\n",
       "      <td>2016</td>\n",
       "      <td>V Kohli</td>\n",
       "      <td>973</td>\n",
       "    </tr>\n",
       "    <tr>\n",
       "      <th>1</th>\n",
       "      <td>2016</td>\n",
       "      <td>DA Warner</td>\n",
       "      <td>848</td>\n",
       "    </tr>\n",
       "    <tr>\n",
       "      <th>2</th>\n",
       "      <td>2013</td>\n",
       "      <td>MEK Hussey</td>\n",
       "      <td>733</td>\n",
       "    </tr>\n",
       "    <tr>\n",
       "      <th>3</th>\n",
       "      <td>2012</td>\n",
       "      <td>CH Gayle</td>\n",
       "      <td>733</td>\n",
       "    </tr>\n",
       "    <tr>\n",
       "      <th>4</th>\n",
       "      <td>2013</td>\n",
       "      <td>CH Gayle</td>\n",
       "      <td>720</td>\n",
       "    </tr>\n",
       "    <tr>\n",
       "      <th>...</th>\n",
       "      <td>...</td>\n",
       "      <td>...</td>\n",
       "      <td>...</td>\n",
       "    </tr>\n",
       "    <tr>\n",
       "      <th>1526</th>\n",
       "      <td>2017</td>\n",
       "      <td>MM Patel</td>\n",
       "      <td>0</td>\n",
       "    </tr>\n",
       "    <tr>\n",
       "      <th>1527</th>\n",
       "      <td>2012</td>\n",
       "      <td>AC Blizzard</td>\n",
       "      <td>0</td>\n",
       "    </tr>\n",
       "    <tr>\n",
       "      <th>1528</th>\n",
       "      <td>2011</td>\n",
       "      <td>AB Dinda</td>\n",
       "      <td>0</td>\n",
       "    </tr>\n",
       "    <tr>\n",
       "      <th>1529</th>\n",
       "      <td>2017</td>\n",
       "      <td>AD Nath</td>\n",
       "      <td>0</td>\n",
       "    </tr>\n",
       "    <tr>\n",
       "      <th>1530</th>\n",
       "      <td>2008</td>\n",
       "      <td>L Balaji</td>\n",
       "      <td>0</td>\n",
       "    </tr>\n",
       "  </tbody>\n",
       "</table>\n",
       "<p>1531 rows × 3 columns</p>\n",
       "</div>"
      ],
      "text/plain": [
       "      season      batsman  batsman_runs\n",
       "0       2016      V Kohli           973\n",
       "1       2016    DA Warner           848\n",
       "2       2013   MEK Hussey           733\n",
       "3       2012     CH Gayle           733\n",
       "4       2013     CH Gayle           720\n",
       "...      ...          ...           ...\n",
       "1526    2017     MM Patel             0\n",
       "1527    2012  AC Blizzard             0\n",
       "1528    2011     AB Dinda             0\n",
       "1529    2017      AD Nath             0\n",
       "1530    2008     L Balaji             0\n",
       "\n",
       "[1531 rows x 3 columns]"
      ]
     },
     "execution_count": 172,
     "metadata": {},
     "output_type": "execute_result"
    }
   ],
   "source": [
    "# Convert series to dataframe\n",
    "df=new.groupby(['season','batsman'])['batsman_runs'].sum().sort_values(ascending=False).reset_index()\n",
    "df"
   ]
  },
  {
   "cell_type": "code",
   "execution_count": 180,
   "id": "b661c4fb-b79a-4931-9077-1a5c3a7cf960",
   "metadata": {},
   "outputs": [
    {
     "data": {
      "text/html": [
       "<div>\n",
       "<style scoped>\n",
       "    .dataframe tbody tr th:only-of-type {\n",
       "        vertical-align: middle;\n",
       "    }\n",
       "\n",
       "    .dataframe tbody tr th {\n",
       "        vertical-align: top;\n",
       "    }\n",
       "\n",
       "    .dataframe thead th {\n",
       "        text-align: right;\n",
       "    }\n",
       "</style>\n",
       "<table border=\"1\" class=\"dataframe\">\n",
       "  <thead>\n",
       "    <tr style=\"text-align: right;\">\n",
       "      <th></th>\n",
       "      <th>season</th>\n",
       "      <th>batsman</th>\n",
       "    </tr>\n",
       "  </thead>\n",
       "  <tbody>\n",
       "    <tr>\n",
       "      <th>10</th>\n",
       "      <td>2008</td>\n",
       "      <td>SE Marsh</td>\n",
       "    </tr>\n",
       "    <tr>\n",
       "      <th>14</th>\n",
       "      <td>2009</td>\n",
       "      <td>ML Hayden</td>\n",
       "    </tr>\n",
       "    <tr>\n",
       "      <th>9</th>\n",
       "      <td>2010</td>\n",
       "      <td>SR Tendulkar</td>\n",
       "    </tr>\n",
       "    <tr>\n",
       "      <th>11</th>\n",
       "      <td>2011</td>\n",
       "      <td>CH Gayle</td>\n",
       "    </tr>\n",
       "    <tr>\n",
       "      <th>3</th>\n",
       "      <td>2012</td>\n",
       "      <td>CH Gayle</td>\n",
       "    </tr>\n",
       "    <tr>\n",
       "      <th>2</th>\n",
       "      <td>2013</td>\n",
       "      <td>MEK Hussey</td>\n",
       "    </tr>\n",
       "    <tr>\n",
       "      <th>6</th>\n",
       "      <td>2014</td>\n",
       "      <td>RV Uthappa</td>\n",
       "    </tr>\n",
       "    <tr>\n",
       "      <th>17</th>\n",
       "      <td>2015</td>\n",
       "      <td>DA Warner</td>\n",
       "    </tr>\n",
       "    <tr>\n",
       "      <th>0</th>\n",
       "      <td>2016</td>\n",
       "      <td>V Kohli</td>\n",
       "    </tr>\n",
       "    <tr>\n",
       "      <th>7</th>\n",
       "      <td>2017</td>\n",
       "      <td>DA Warner</td>\n",
       "    </tr>\n",
       "  </tbody>\n",
       "</table>\n",
       "</div>"
      ],
      "text/plain": [
       "    season       batsman\n",
       "10    2008      SE Marsh\n",
       "14    2009     ML Hayden\n",
       "9     2010  SR Tendulkar\n",
       "11    2011      CH Gayle\n",
       "3     2012      CH Gayle\n",
       "2     2013    MEK Hussey\n",
       "6     2014    RV Uthappa\n",
       "17    2015     DA Warner\n",
       "0     2016       V Kohli\n",
       "7     2017     DA Warner"
      ]
     },
     "execution_count": 180,
     "metadata": {},
     "output_type": "execute_result"
    }
   ],
   "source": [
    "# Keep only first one using drop dup\n",
    "df.drop_duplicates(subset='season',keep='first').sort_values('season')[['season','batsman']]"
   ]
  },
  {
   "cell_type": "code",
   "execution_count": null,
   "id": "7f6a672e-59f6-4400-bd30-19a310dae13c",
   "metadata": {},
   "outputs": [],
   "source": []
  }
 ],
 "metadata": {
  "kernelspec": {
   "display_name": "Python 3 (ipykernel)",
   "language": "python",
   "name": "python3"
  },
  "language_info": {
   "codemirror_mode": {
    "name": "ipython",
    "version": 3
   },
   "file_extension": ".py",
   "mimetype": "text/x-python",
   "name": "python",
   "nbconvert_exporter": "python",
   "pygments_lexer": "ipython3",
   "version": "3.12.7"
  }
 },
 "nbformat": 4,
 "nbformat_minor": 5
}
