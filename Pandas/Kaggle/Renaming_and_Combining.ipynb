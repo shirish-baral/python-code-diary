{
  "cells": [
    {
      "cell_type": "markdown",
      "metadata": {
        "id": "view-in-github",
        "colab_type": "text"
      },
      "source": [
        "<a href=\"https://colab.research.google.com/github/shirish-baral/python-code-diary/blob/main/Renaming_and_Combining.ipynb\" target=\"_parent\"><img src=\"https://colab.research.google.com/assets/colab-badge.svg\" alt=\"Open In Colab\"/></a>"
      ]
    },
    {
      "source": [
        "# IMPORTANT: RUN THIS CELL IN ORDER TO IMPORT YOUR KAGGLE DATA SOURCES,\n",
        "# THEN FEEL FREE TO DELETE THIS CELL.\n",
        "# NOTE: THIS NOTEBOOK ENVIRONMENT DIFFERS FROM KAGGLE'S PYTHON\n",
        "# ENVIRONMENT SO THERE MAY BE MISSING LIBRARIES USED BY YOUR\n",
        "# NOTEBOOK.\n",
        "import kagglehub\n",
        "nolanbconaway_pitchfork_data_path = kagglehub.dataset_download('nolanbconaway/pitchfork-data')\n",
        "datasnaek_chess_path = kagglehub.dataset_download('datasnaek/chess')\n",
        "organizations_nasa_kepler_exoplanet_search_results_path = kagglehub.dataset_download('organizations/nasa/kepler-exoplanet-search-results')\n",
        "residentmario_things_on_reddit_path = kagglehub.dataset_download('residentmario/things-on-reddit')\n",
        "zynicide_wine_reviews_path = kagglehub.dataset_download('zynicide/wine-reviews')\n",
        "residentmario_ramen_ratings_path = kagglehub.dataset_download('residentmario/ramen-ratings')\n",
        "dansbecker_powerlifting_database_path = kagglehub.dataset_download('dansbecker/powerlifting-database')\n",
        "datasnaek_youtube_new_path = kagglehub.dataset_download('datasnaek/youtube-new')\n",
        "rtatman_188_million_us_wildfires_path = kagglehub.dataset_download('rtatman/188-million-us-wildfires')\n",
        "jpmiller_publicassistance_path = kagglehub.dataset_download('jpmiller/publicassistance')\n",
        "\n",
        "print('Data source import complete.')\n"
      ],
      "metadata": {
        "id": "Nuu8I8oMsNXF"
      },
      "cell_type": "code",
      "outputs": [],
      "execution_count": null
    },
    {
      "cell_type": "markdown",
      "metadata": {
        "id": "2gsNGP2vsNXG"
      },
      "source": [
        "# Introduction\n",
        "\n",
        "Oftentimes data will come to us with column names, index names, or other naming conventions that we are not satisfied with. In that case, you'll learn how to use pandas functions to change the names of the offending entries to something better.\n",
        "\n",
        "You'll also explore how to combine data from multiple DataFrames and/or Series.\n",
        "\n",
        "**To start the exercise for this topic, please click [here](https://www.kaggle.com/kernels/fork/638064).**\n",
        "\n",
        "# Renaming\n",
        "\n",
        "The first function we'll introduce here is `rename()`, which lets you change index names and/or column names. For example, to change the `points` column in our dataset to `score`, we would do:"
      ]
    },
    {
      "cell_type": "code",
      "execution_count": null,
      "metadata": {
        "_kg_hide-input": true,
        "id": "Xh7Kt-oVsNXG"
      },
      "outputs": [],
      "source": [
        "\n",
        "import pandas as pd\n",
        "pd.set_option('display.max_rows', 5)\n",
        "reviews = pd.read_csv(\"../input/wine-reviews/winemag-data-130k-v2.csv\", index_col=0)"
      ]
    },
    {
      "cell_type": "code",
      "execution_count": null,
      "metadata": {
        "collapsed": true,
        "id": "OnNDZQMUsNXH"
      },
      "outputs": [],
      "source": [
        "reviews.rename(columns={'points': 'score'})"
      ]
    },
    {
      "cell_type": "markdown",
      "metadata": {
        "id": "EkUOdxuhsNXH"
      },
      "source": [
        "`rename()` lets you rename index _or_ column values by specifying a `index` or `column` keyword parameter, respectively. It supports a variety of input formats, but usually a Python dictionary is the most convenient. Here is an example using it to rename some elements of the index."
      ]
    },
    {
      "cell_type": "code",
      "execution_count": null,
      "metadata": {
        "collapsed": true,
        "id": "A0zM8tFgsNXH"
      },
      "outputs": [],
      "source": [
        "reviews.rename(index={0: 'firstEntry', 1: 'secondEntry'})"
      ]
    },
    {
      "cell_type": "markdown",
      "metadata": {
        "id": "bNSZ7nfhsNXI"
      },
      "source": [
        "You'll probably rename columns very often, but rename index values very rarely.  For that, `set_index()` is usually more convenient.\n",
        "\n",
        "Both the row index and the column index can have their own `name` attribute. The complimentary `rename_axis()` method may be used to change these names. For example:"
      ]
    },
    {
      "cell_type": "code",
      "execution_count": null,
      "metadata": {
        "collapsed": true,
        "id": "-3_kSALysNXI"
      },
      "outputs": [],
      "source": [
        "reviews.rename_axis(\"wines\", axis='rows').rename_axis(\"fields\", axis='columns')"
      ]
    },
    {
      "cell_type": "markdown",
      "metadata": {
        "id": "NR_zUu2dsNXI"
      },
      "source": [
        "# Combining\n",
        "\n",
        "When performing operations on a dataset, we will sometimes need to combine different DataFrames and/or Series in non-trivial ways. Pandas has three core methods for doing this. In order of increasing complexity, these are `concat()`, `join()`, and `merge()`. Most of what `merge()` can do can also be done more simply with `join()`, so we will omit it and focus on the first two functions here.\n",
        "\n",
        "The simplest combining method is `concat()`. Given a list of elements, this function will smush those elements together along an axis.\n",
        "\n",
        "This is useful when we have data in different DataFrame or Series objects but having the same fields (columns). One example: the [YouTube Videos dataset](https://www.kaggle.com/datasnaek/youtube-new), which splits the data up based on country of origin (e.g. Canada and the UK, in this example). If we want to study multiple countries simultaneously, we can use `concat()` to smush them together:"
      ]
    },
    {
      "cell_type": "code",
      "execution_count": null,
      "metadata": {
        "collapsed": true,
        "id": "2suntDyNsNXJ"
      },
      "outputs": [],
      "source": [
        "canadian_youtube = pd.read_csv(\"../input/youtube-new/CAvideos.csv\")\n",
        "british_youtube = pd.read_csv(\"../input/youtube-new/GBvideos.csv\")\n",
        "\n",
        "pd.concat([canadian_youtube, british_youtube])"
      ]
    },
    {
      "cell_type": "markdown",
      "metadata": {
        "id": "5dP-HTDUsNXJ"
      },
      "source": [
        "The middlemost combiner in terms of complexity is `join()`. `join()` lets you combine different DataFrame objects which have an index in common. For example, to pull down videos that happened to be trending on the same day in _both_ Canada and the UK, we could do the following:"
      ]
    },
    {
      "cell_type": "code",
      "execution_count": null,
      "metadata": {
        "collapsed": true,
        "id": "KR4DYhTpsNXJ"
      },
      "outputs": [],
      "source": [
        "left = canadian_youtube.set_index(['title', 'trending_date'])\n",
        "right = british_youtube.set_index(['title', 'trending_date'])\n",
        "\n",
        "left.join(right, lsuffix='_CAN', rsuffix='_UK')"
      ]
    },
    {
      "cell_type": "markdown",
      "metadata": {
        "id": "ggtBBdR2sNXJ"
      },
      "source": [
        "The `lsuffix` and `rsuffix` parameters are necessary here because the data has the same column names in both British and Canadian datasets. If this wasn't true (because, say, we'd renamed them beforehand) we wouldn't need them.\n",
        "\n",
        "# Your turn\n",
        "\n",
        "If you haven't started the exercise, you can **[get started here](https://www.kaggle.com/kernels/fork/638064)**."
      ]
    },
    {
      "cell_type": "markdown",
      "metadata": {
        "id": "p8nIi4AKsNXJ"
      },
      "source": [
        "---\n",
        "\n",
        "\n",
        "\n",
        "\n",
        "*Have questions or comments? Visit the [course discussion forum](https://www.kaggle.com/learn/pandas/discussion) to chat with other learners.*"
      ]
    }
  ],
  "metadata": {
    "kernelspec": {
      "display_name": "Python 3 (ipykernel)",
      "language": "python",
      "name": "python3"
    },
    "language_info": {
      "codemirror_mode": {
        "name": "ipython",
        "version": 3
      },
      "file_extension": ".py",
      "mimetype": "text/x-python",
      "name": "python",
      "nbconvert_exporter": "python",
      "pygments_lexer": "ipython3",
      "version": "3.6.5"
    },
    "colab": {
      "name": "Renaming and Combining",
      "provenance": [],
      "include_colab_link": true
    }
  },
  "nbformat": 4,
  "nbformat_minor": 0
}