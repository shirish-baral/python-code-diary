{
  "cells": [
    {
      "cell_type": "markdown",
      "metadata": {
        "id": "view-in-github",
        "colab_type": "text"
      },
      "source": [
        "<a href=\"https://colab.research.google.com/github/shirish-baral/python-code-diary/blob/main/Summary_Functions_and_Maps.ipynb\" target=\"_parent\"><img src=\"https://colab.research.google.com/assets/colab-badge.svg\" alt=\"Open In Colab\"/></a>"
      ]
    },
    {
      "source": [
        "# IMPORTANT: RUN THIS CELL IN ORDER TO IMPORT YOUR KAGGLE DATA SOURCES,\n",
        "# THEN FEEL FREE TO DELETE THIS CELL.\n",
        "# NOTE: THIS NOTEBOOK ENVIRONMENT DIFFERS FROM KAGGLE'S PYTHON\n",
        "# ENVIRONMENT SO THERE MAY BE MISSING LIBRARIES USED BY YOUR\n",
        "# NOTEBOOK.\n",
        "import kagglehub\n",
        "nolanbconaway_pitchfork_data_path = kagglehub.dataset_download('nolanbconaway/pitchfork-data')\n",
        "datasnaek_chess_path = kagglehub.dataset_download('datasnaek/chess')\n",
        "organizations_nasa_kepler_exoplanet_search_results_path = kagglehub.dataset_download('organizations/nasa/kepler-exoplanet-search-results')\n",
        "residentmario_things_on_reddit_path = kagglehub.dataset_download('residentmario/things-on-reddit')\n",
        "zynicide_wine_reviews_path = kagglehub.dataset_download('zynicide/wine-reviews')\n",
        "residentmario_ramen_ratings_path = kagglehub.dataset_download('residentmario/ramen-ratings')\n",
        "dansbecker_powerlifting_database_path = kagglehub.dataset_download('dansbecker/powerlifting-database')\n",
        "datasnaek_youtube_new_path = kagglehub.dataset_download('datasnaek/youtube-new')\n",
        "rtatman_188_million_us_wildfires_path = kagglehub.dataset_download('rtatman/188-million-us-wildfires')\n",
        "jpmiller_publicassistance_path = kagglehub.dataset_download('jpmiller/publicassistance')\n",
        "\n",
        "print('Data source import complete.')\n"
      ],
      "metadata": {
        "id": "1siD8OcDxnW1"
      },
      "cell_type": "code",
      "outputs": [],
      "execution_count": null
    },
    {
      "cell_type": "markdown",
      "metadata": {
        "id": "WM_brBAcxnW3"
      },
      "source": [
        "# Introduction\n",
        "\n",
        "In the last tutorial, we learned how to select relevant data out of a DataFrame or Series. Plucking the right data out of our data representation is critical to getting work done, as we demonstrated in the exercises.\n",
        "\n",
        "However, the data does not always come out of memory in the format we want it in right out of the bat. Sometimes we have to do some more work ourselves to reformat it for the task at hand.  This tutorial will cover different operations we can apply to our data to get the input \"just right\".\n",
        "\n",
        "**To start the exercise for this topic, please click [here](https://www.kaggle.com/kernels/fork/595524).**\n",
        "\n",
        "We'll use the Wine Magazine data for demonstration."
      ]
    },
    {
      "cell_type": "code",
      "execution_count": null,
      "metadata": {
        "_kg_hide-input": true,
        "id": "ElS0dR1exnW4"
      },
      "outputs": [],
      "source": [
        "\n",
        "import pandas as pd\n",
        "pd.set_option('display.max_rows', 5)\n",
        "import numpy as np\n",
        "reviews = pd.read_csv(\"../input/wine-reviews/winemag-data-130k-v2.csv\", index_col=0)"
      ]
    },
    {
      "cell_type": "code",
      "execution_count": null,
      "metadata": {
        "id": "7XkBEhBzxnW4"
      },
      "outputs": [],
      "source": [
        "reviews"
      ]
    },
    {
      "cell_type": "markdown",
      "metadata": {
        "id": "ZHmrJlRvxnW4"
      },
      "source": [
        "# Summary functions\n",
        "\n",
        "Pandas provides many simple \"summary functions\" (not an official name) which restructure the data in some useful way. For example, consider the `describe()` method:"
      ]
    },
    {
      "cell_type": "code",
      "execution_count": null,
      "metadata": {
        "id": "izEno5MFxnW4"
      },
      "outputs": [],
      "source": [
        "reviews.points.describe()"
      ]
    },
    {
      "cell_type": "markdown",
      "metadata": {
        "id": "HXVaNAbFxnW5"
      },
      "source": [
        "This method generates a high-level summary of the attributes of the given column. It is type-aware, meaning that its output changes based on the data type of the input. The output above only makes sense for numerical data; for string data here's what we get:"
      ]
    },
    {
      "cell_type": "code",
      "execution_count": null,
      "metadata": {
        "id": "QTTtu0EpxnW5"
      },
      "outputs": [],
      "source": [
        "reviews.taster_name.describe()"
      ]
    },
    {
      "cell_type": "markdown",
      "metadata": {
        "id": "yGc1Y4oYxnW5"
      },
      "source": [
        "If you want to get some particular simple summary statistic about a column in a DataFrame or a Series, there is usually a helpful pandas function that makes it happen.\n",
        "\n",
        "For example, to see the mean of the points allotted (e.g. how well an averagely rated wine does), we can use the `mean()` function:"
      ]
    },
    {
      "cell_type": "code",
      "execution_count": null,
      "metadata": {
        "id": "-rTCh1M_xnW5"
      },
      "outputs": [],
      "source": [
        "reviews.points.mean()"
      ]
    },
    {
      "cell_type": "markdown",
      "metadata": {
        "id": "1QHSyM1bxnW5"
      },
      "source": [
        "To see a list of unique values we can use the `unique()` function:"
      ]
    },
    {
      "cell_type": "code",
      "execution_count": null,
      "metadata": {
        "id": "t7AX8QgDxnW6"
      },
      "outputs": [],
      "source": [
        "reviews.taster_name.unique()"
      ]
    },
    {
      "cell_type": "markdown",
      "metadata": {
        "id": "PcSJm-kHxnW6"
      },
      "source": [
        "To see a list of unique values _and_ how often they occur in the dataset, we can use the `value_counts()` method:"
      ]
    },
    {
      "cell_type": "code",
      "execution_count": null,
      "metadata": {
        "id": "j00hIcs7xnW6"
      },
      "outputs": [],
      "source": [
        "reviews.taster_name.value_counts()"
      ]
    },
    {
      "cell_type": "markdown",
      "metadata": {
        "id": "Yse0rbZ_xnW6"
      },
      "source": [
        "# Maps\n",
        "\n",
        "A **map** is a term, borrowed from mathematics, for a function that takes one set of values and \"maps\" them to another set of values. In data science we often have a need for creating new representations from existing data, or for transforming data from the format it is in now to the format that we want it to be in later. Maps are what handle this work, making them extremely important for getting your work done!\n",
        "\n",
        "There are two mapping methods that you will use often.\n",
        "\n",
        "[`map()`](https://pandas.pydata.org/pandas-docs/stable/generated/pandas.Series.map.html) is the first, and slightly simpler one. For example, suppose that we wanted to remean the scores the wines received to 0. We can do this as follows:"
      ]
    },
    {
      "cell_type": "code",
      "execution_count": null,
      "metadata": {
        "id": "DAhg5aM0xnW6"
      },
      "outputs": [],
      "source": [
        "review_points_mean = reviews.points.mean()\n",
        "reviews.points.map(lambda p: p - review_points_mean)"
      ]
    },
    {
      "cell_type": "markdown",
      "metadata": {
        "id": "YRLZtNuTxnW6"
      },
      "source": [
        "The function you pass to `map()` should expect a single value from the Series (a point value, in the above example), and return a transformed version of that value. `map()` returns a new Series where all the values have been transformed by your function.\n",
        "\n",
        "[`apply()`](https://pandas.pydata.org/pandas-docs/stable/generated/pandas.DataFrame.apply.html) is the equivalent method if we want to transform a whole DataFrame by calling a custom method on each row."
      ]
    },
    {
      "cell_type": "code",
      "execution_count": null,
      "metadata": {
        "id": "WkNKDZUMxnW6"
      },
      "outputs": [],
      "source": [
        "def remean_points(row):\n",
        "    row.points = row.points - review_points_mean\n",
        "    return row\n",
        "\n",
        "reviews.apply(remean_points, axis='columns')"
      ]
    },
    {
      "cell_type": "markdown",
      "metadata": {
        "id": "GTNs-e19xnW6"
      },
      "source": [
        "If we had called `reviews.apply()` with `axis='index'`, then instead of passing a function to transform each row, we would need to give a function to transform each *column*.\n",
        "\n",
        "Note that `map()` and `apply()` return new, transformed Series and DataFrames, respectively. They don't modify the original data they're called on. If we look at the first row of `reviews`, we can see that it still has its original `points` value."
      ]
    },
    {
      "cell_type": "code",
      "execution_count": null,
      "metadata": {
        "id": "qHZlDFXOxnW6"
      },
      "outputs": [],
      "source": [
        "reviews.head(1)"
      ]
    },
    {
      "cell_type": "markdown",
      "metadata": {
        "id": "-7uB9vCHxnW6"
      },
      "source": [
        "Pandas provides many common mapping operations as built-ins. For example, here's a faster way of remeaning our points column:"
      ]
    },
    {
      "cell_type": "code",
      "execution_count": null,
      "metadata": {
        "id": "U2FL3gx_xnW7"
      },
      "outputs": [],
      "source": [
        "review_points_mean = reviews.points.mean()\n",
        "reviews.points - review_points_mean"
      ]
    },
    {
      "cell_type": "markdown",
      "metadata": {
        "id": "hUV1Q8Z3xnW7"
      },
      "source": [
        "In this code we are performing an operation between a lot of values on the left-hand side (everything in the Series) and a single value on the right-hand side (the mean value). Pandas looks at this expression and figures out that we must mean to subtract that mean value from every value in the dataset.\n",
        "\n",
        "Pandas will also understand what to do if we perform these operations between Series of equal length. For example, an easy way of combining country and region information in the dataset would be to do the following:"
      ]
    },
    {
      "cell_type": "code",
      "execution_count": null,
      "metadata": {
        "id": "d7qL6eFTxnW7"
      },
      "outputs": [],
      "source": [
        "reviews.country + \" - \" + reviews.region_1"
      ]
    },
    {
      "cell_type": "markdown",
      "metadata": {
        "id": "Kf7lneRJxnW7"
      },
      "source": [
        "These operators are faster than `map()` or `apply()` because they use speed ups built into pandas. All of the standard Python operators (`>`, `<`, `==`, and so on) work in this manner.\n",
        "\n",
        "However, they are not as flexible as `map()` or `apply()`, which can do more advanced things, like applying conditional logic, which cannot be done with addition and subtraction alone.\n",
        "\n",
        "# Your turn\n",
        "\n",
        "If you haven't started the exercise, you can **[get started here](https://www.kaggle.com/kernels/fork/595524)**."
      ]
    },
    {
      "cell_type": "markdown",
      "metadata": {
        "id": "jL87XT1bxnW7"
      },
      "source": [
        "---\n",
        "\n",
        "\n",
        "\n",
        "\n",
        "*Have questions or comments? Visit the [course discussion forum](https://www.kaggle.com/learn/pandas/discussion) to chat with other learners.*"
      ]
    }
  ],
  "metadata": {
    "kernelspec": {
      "display_name": "Python 3 (ipykernel)",
      "language": "python",
      "name": "python3"
    },
    "language_info": {
      "codemirror_mode": {
        "name": "ipython",
        "version": 3
      },
      "file_extension": ".py",
      "mimetype": "text/x-python",
      "name": "python",
      "nbconvert_exporter": "python",
      "pygments_lexer": "ipython3",
      "version": "3.6.5"
    },
    "colab": {
      "name": "Summary Functions and Maps",
      "provenance": [],
      "include_colab_link": true
    }
  },
  "nbformat": 4,
  "nbformat_minor": 0
}