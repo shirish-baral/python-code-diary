{
  "cells": [
    {
      "cell_type": "markdown",
      "metadata": {
        "id": "view-in-github",
        "colab_type": "text"
      },
      "source": [
        "<a href=\"https://colab.research.google.com/github/shirish-baral/python-code-diary/blob/main/Functions_and_Getting_Help.ipynb\" target=\"_parent\"><img src=\"https://colab.research.google.com/assets/colab-badge.svg\" alt=\"Open In Colab\"/></a>"
      ]
    },
    {
      "cell_type": "markdown",
      "metadata": {
        "id": "E3JtFPPSA2Xk"
      },
      "source": [
        "You've already seen and used functions such as `print` and `abs`. But Python has many more functions, and defining your own functions is a big part of python programming.\n",
        "\n",
        "In this lesson, you will learn more about using and defining functions."
      ]
    },
    {
      "cell_type": "markdown",
      "metadata": {
        "id": "oGLPGqIKA2Xl"
      },
      "source": [
        "# Getting Help\n",
        "\n",
        "You saw the `abs` function in the previous tutorial, but what if you've forgotten what it does?\n",
        "\n",
        "The `help()` function is possibly the most important Python function you can learn. If you can remember how to use `help()`, you hold the key to understanding most other functions.\n",
        "\n",
        "Here is an example:"
      ]
    },
    {
      "cell_type": "code",
      "execution_count": null,
      "metadata": {
        "id": "0cbzte3DA2Xm"
      },
      "outputs": [],
      "source": [
        "help(round)"
      ]
    },
    {
      "cell_type": "markdown",
      "metadata": {
        "id": "tiW7l4SvA2Xn"
      },
      "source": [
        "`help()` displays two things:\n",
        "\n",
        "1. the header of that function `round(number, ndigits=None)`. In this case, this tells us that `round()` takes an argument we can describe as `number`. Additionally, we can optionally give a separate argument which could be described as `ndigits`.\n",
        "2. A brief English description of what the function does."
      ]
    },
    {
      "cell_type": "markdown",
      "metadata": {
        "id": "gk8ROw2uA2Xn"
      },
      "source": [
        "**Common pitfall:** when you're looking up a function, remember to pass in the name of the function itself, and not the result of calling that function.\n",
        "\n",
        "What happens if we invoke help on a *call* to the function `round()`? Unhide the output of the cell below to see."
      ]
    },
    {
      "cell_type": "code",
      "execution_count": null,
      "metadata": {
        "_kg_hide-output": true,
        "collapsed": true,
        "id": "9LmWkQerA2Xo"
      },
      "outputs": [],
      "source": [
        "help(round(-2.01))"
      ]
    },
    {
      "cell_type": "markdown",
      "metadata": {
        "id": "0jsjMgOYA2Xo"
      },
      "source": [
        "Python evaluates an expression like this from the inside out. First it calculates the value of `round(-2.01)`, then it provides help on the output of that expression.\n",
        "\n",
        "<small>(And it turns out to have a lot to say about integers! After we talk later about objects, methods, and attributes in Python, the help output above will make more sense.)</small>\n",
        "\n",
        "`round` is a very simple function with a short docstring. `help` shines even more when dealing with more complex, configurable functions like `print`. Don't worry if the following output looks inscrutable... for now, just see if you can pick anything new out from this help."
      ]
    },
    {
      "cell_type": "code",
      "execution_count": null,
      "metadata": {
        "collapsed": true,
        "id": "66Q9diUpA2Xo"
      },
      "outputs": [],
      "source": [
        "help(print)"
      ]
    },
    {
      "cell_type": "markdown",
      "metadata": {
        "id": "0ZFgrNHlA2Xp"
      },
      "source": [
        "If you were looking for it, you might learn that print can take an argument called `sep`, and that this describes what we put between all the other arguments when we print them."
      ]
    },
    {
      "cell_type": "markdown",
      "metadata": {
        "id": "w0SsbrYiA2Xp"
      },
      "source": [
        "## Defining functions\n",
        "\n",
        "Builtin functions are great, but we can only get so far with them before we need to start defining our own functions. Below is a simple example."
      ]
    },
    {
      "cell_type": "code",
      "execution_count": null,
      "metadata": {
        "collapsed": true,
        "id": "rSqN-LqnA2Xp"
      },
      "outputs": [],
      "source": [
        "def least_difference(a, b, c):\n",
        "    diff1 = abs(a - b)\n",
        "    diff2 = abs(b - c)\n",
        "    diff3 = abs(a - c)\n",
        "    return min(diff1, diff2, diff3)"
      ]
    },
    {
      "cell_type": "markdown",
      "metadata": {
        "id": "jVl5eOgCA2Xp"
      },
      "source": [
        "This creates a function called `least_difference`, which takes three arguments, `a`, `b`, and `c`.\n",
        "\n",
        "Functions start with a header introduced by the `def` keyword. The indented block of code following the `:` is run when the function is called.\n",
        "\n",
        "`return` is another keyword uniquely associated with functions. When Python encounters a `return` statement, it exits the function immediately, and passes the value on the right hand side to the calling context.\n",
        "\n",
        "Is it clear what `least_difference()` does from the source code? If we're not sure, we can always try it out on a few examples:"
      ]
    },
    {
      "cell_type": "code",
      "execution_count": null,
      "metadata": {
        "collapsed": true,
        "id": "feX6VjCvA2Xq"
      },
      "outputs": [],
      "source": [
        "print(\n",
        "    least_difference(1, 10, 100),\n",
        "    least_difference(1, 10, 10),\n",
        "    least_difference(5, 6, 7), # Python allows trailing commas in argument lists. How nice is that?\n",
        ")"
      ]
    },
    {
      "cell_type": "markdown",
      "metadata": {
        "id": "sFJ70OTJA2Xq"
      },
      "source": [
        "Or maybe the `help()` function can tell us something about it."
      ]
    },
    {
      "cell_type": "code",
      "execution_count": null,
      "metadata": {
        "collapsed": true,
        "id": "-E2GHPjxA2Xq"
      },
      "outputs": [],
      "source": [
        "help(least_difference)"
      ]
    },
    {
      "cell_type": "markdown",
      "metadata": {
        "id": "RjV5QUSpA2Xq"
      },
      "source": [
        "Python isn't smart enough to read my code and turn it into a nice English description. However, when I write a function, I can provide a description in what's called the **docstring**.\n",
        "\n",
        "### Docstrings"
      ]
    },
    {
      "cell_type": "code",
      "execution_count": null,
      "metadata": {
        "collapsed": true,
        "id": "DKXntPjFA2Xq"
      },
      "outputs": [],
      "source": [
        "def least_difference(a, b, c):\n",
        "    \"\"\"Return the smallest difference between any two numbers\n",
        "    among a, b and c.\n",
        "\n",
        "    >>> least_difference(1, 5, -5)\n",
        "    4\n",
        "    \"\"\"\n",
        "    diff1 = abs(a - b)\n",
        "    diff2 = abs(b - c)\n",
        "    diff3 = abs(a - c)\n",
        "    return min(diff1, diff2, diff3)"
      ]
    },
    {
      "cell_type": "markdown",
      "metadata": {
        "id": "Q847zTChA2Xq"
      },
      "source": [
        "The docstring is a triple-quoted string (which may span multiple lines) that comes immediately after the header of a function. When we call `help()` on a function, it shows the docstring."
      ]
    },
    {
      "cell_type": "code",
      "execution_count": null,
      "metadata": {
        "collapsed": true,
        "id": "4IEZvuzQA2Xr"
      },
      "outputs": [],
      "source": [
        "help(least_difference)"
      ]
    },
    {
      "cell_type": "markdown",
      "metadata": {
        "id": "iz9Cvv8zA2Xr"
      },
      "source": [
        "> **Aside:**\n",
        "> The last two lines of the docstring are an example function call and result. (The `>>>` is a reference to the command prompt used in Python interactive shells.) Python doesn't run the example call - it's just there for the benefit of the reader. The convention of including 1 or more example calls in a function's docstring is far from universally observed, but it can be very effective at helping someone understand your function. For a real-world example, see [this docstring for the numpy function `np.eye`](https://github.com/numpy/numpy/blob/v1.14.2/numpy/lib/twodim_base.py#L140-L194)."
      ]
    },
    {
      "cell_type": "markdown",
      "metadata": {
        "id": "quZC_37nA2Xr"
      },
      "source": [
        "Good programmers use docstrings unless they expect to throw away the code soon after it's used (which is rare).  So, you should start writing docstrings, too!"
      ]
    },
    {
      "cell_type": "markdown",
      "metadata": {
        "id": "jFXyzP5OA2Xr"
      },
      "source": [
        "## Functions that don't return\n",
        "\n",
        "What would happen if we didn't include the `return` keyword in our function?"
      ]
    },
    {
      "cell_type": "code",
      "execution_count": null,
      "metadata": {
        "collapsed": true,
        "id": "jppt7xHSA2Xr"
      },
      "outputs": [],
      "source": [
        "def least_difference(a, b, c):\n",
        "    \"\"\"Return the smallest difference between any two numbers\n",
        "    among a, b and c.\n",
        "    \"\"\"\n",
        "    diff1 = abs(a - b)\n",
        "    diff2 = abs(b - c)\n",
        "    diff3 = abs(a - c)\n",
        "    min(diff1, diff2, diff3)\n",
        "\n",
        "print(\n",
        "    least_difference(1, 10, 100),\n",
        "    least_difference(1, 10, 10),\n",
        "    least_difference(5, 6, 7),\n",
        ")"
      ]
    },
    {
      "cell_type": "markdown",
      "metadata": {
        "id": "2EBXrhldA2Xr"
      },
      "source": [
        "Python allows us to define such functions. The result of calling them is the special value `None`. (This is similar to the concept of \"null\" in other languages.)\n",
        "\n",
        "Without a `return` statement, `least_difference` is completely pointless, but a function with side effects may do something useful without returning anything. We've already seen two examples of this: `print()` and `help()` don't return anything. We only call them for their side effects (putting some text on the screen). Other examples of useful side effects include writing to a file, or modifying an input."
      ]
    },
    {
      "cell_type": "code",
      "execution_count": null,
      "metadata": {
        "collapsed": true,
        "id": "q47wC-H5A2Xr"
      },
      "outputs": [],
      "source": [
        "mystery = print()\n",
        "print(mystery)"
      ]
    },
    {
      "cell_type": "markdown",
      "metadata": {
        "id": "AHCtMf9mA2Xs"
      },
      "source": [
        "## Default arguments\n",
        "\n",
        "When we called `help(print)`, we saw that the `print` function has several optional arguments. For example, we can specify a value for `sep` to put some special string in between our printed arguments:"
      ]
    },
    {
      "cell_type": "code",
      "execution_count": null,
      "metadata": {
        "collapsed": true,
        "id": "yp8GQtI_A2Xs"
      },
      "outputs": [],
      "source": [
        "print(1, 2, 3, sep=' < ')"
      ]
    },
    {
      "cell_type": "markdown",
      "metadata": {
        "id": "ekIqNvV3A2Xs"
      },
      "source": [
        "But if we don't specify a value, `sep` is treated as having a default value of `' '` (a single space)."
      ]
    },
    {
      "cell_type": "code",
      "execution_count": null,
      "metadata": {
        "collapsed": true,
        "id": "DpvPfiyOA2Xs"
      },
      "outputs": [],
      "source": [
        "print(1, 2, 3)"
      ]
    },
    {
      "cell_type": "markdown",
      "metadata": {
        "id": "YRhoz7mKA2Xs"
      },
      "source": [
        "Adding optional arguments with default values to the functions we define turns out to be pretty easy:"
      ]
    },
    {
      "cell_type": "code",
      "execution_count": null,
      "metadata": {
        "collapsed": true,
        "id": "Q9ueV4ZDA2Xs"
      },
      "outputs": [],
      "source": [
        "def greet(who=\"Colin\"):\n",
        "    print(\"Hello,\", who)\n",
        "\n",
        "greet()\n",
        "greet(who=\"Kaggle\")\n",
        "# (In this case, we don't need to specify the name of the argument, because it's unambiguous.)\n",
        "greet(\"world\")"
      ]
    },
    {
      "cell_type": "markdown",
      "metadata": {
        "id": "4GtII1ccA2Xs"
      },
      "source": [
        "## Functions Applied to Functions\n",
        "\n",
        "Here's something that's powerful, though it can feel very abstract at first.  You can supply functions as arguments to other functions.  Some example may make this clearer:"
      ]
    },
    {
      "cell_type": "code",
      "execution_count": null,
      "metadata": {
        "collapsed": true,
        "id": "e9tEj5uOA2Xs"
      },
      "outputs": [],
      "source": [
        "def mult_by_five(x):\n",
        "    return 5 * x\n",
        "\n",
        "def call(fn, arg):\n",
        "    \"\"\"Call fn on arg\"\"\"\n",
        "    return fn(arg)\n",
        "\n",
        "def squared_call(fn, arg):\n",
        "    \"\"\"Call fn on the result of calling fn on arg\"\"\"\n",
        "    return fn(fn(arg))\n",
        "\n",
        "print(\n",
        "    call(mult_by_five, 1),\n",
        "    squared_call(mult_by_five, 1),\n",
        "    sep='\\n', # '\\n' is the newline character - it starts a new line\n",
        ")"
      ]
    },
    {
      "cell_type": "markdown",
      "metadata": {
        "id": "alA4wZQ4A2Xt"
      },
      "source": [
        "Functions that operate on other functions are called \"higher-order functions.\" You probably won't write your own for a little while. But there are higher-order functions built into Python that you might find useful to call.\n",
        "\n",
        "Here's an interesting example using the `max` function.\n",
        "\n",
        "By default, `max` returns the largest of its arguments. But if we pass in a function using the optional `key` argument, it returns the argument `x` that maximizes `key(x)` (aka the 'argmax')."
      ]
    },
    {
      "cell_type": "code",
      "execution_count": null,
      "metadata": {
        "collapsed": true,
        "id": "Rfd64w6pA2Xt"
      },
      "outputs": [],
      "source": [
        "def mod_5(x):\n",
        "    \"\"\"Return the remainder of x after dividing by 5\"\"\"\n",
        "    return x % 5\n",
        "\n",
        "print(\n",
        "    'Which number is biggest?',\n",
        "    max(100, 51, 14),\n",
        "    'Which number is the biggest modulo 5?',\n",
        "    max(100, 51, 14, key=mod_5),\n",
        "    sep='\\n',\n",
        ")"
      ]
    },
    {
      "cell_type": "markdown",
      "metadata": {
        "id": "rLe60QAHA2Xt"
      },
      "source": [
        "# Your Turn\n",
        "\n",
        "Functions open up a whole new world in Python programming. **[Try using them yourself](https://www.kaggle.com/kernels/fork/1275158)**."
      ]
    },
    {
      "cell_type": "markdown",
      "metadata": {
        "id": "YSgqLkUkA2Xt"
      },
      "source": [
        "---\n",
        "\n",
        "\n",
        "\n",
        "\n",
        "*Have questions or comments? Visit the [course discussion forum](https://www.kaggle.com/learn/python/discussion) to chat with other learners.*"
      ]
    }
  ],
  "metadata": {
    "kernelspec": {
      "display_name": "Python 3",
      "language": "python",
      "name": "python3"
    },
    "language_info": {
      "codemirror_mode": {
        "name": "ipython",
        "version": 3
      },
      "file_extension": ".py",
      "mimetype": "text/x-python",
      "name": "python",
      "nbconvert_exporter": "python",
      "pygments_lexer": "ipython3",
      "version": "3.6.5"
    },
    "learntools_metadata": {
      "lesson_index": 1,
      "type": "tutorial"
    },
    "colab": {
      "name": "Functions and Getting Help",
      "provenance": [],
      "include_colab_link": true
    }
  },
  "nbformat": 4,
  "nbformat_minor": 0
}